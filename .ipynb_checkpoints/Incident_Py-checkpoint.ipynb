{
 "cells": [
  {
   "cell_type": "code",
   "execution_count": 1,
   "metadata": {
    "collapsed": true
   },
   "outputs": [],
   "source": [
    "import pandas as pd\n",
    "import numpy as np\n",
    "import os\n",
    "import sqlalchemy\n",
    "import sqlite3\n",
    "import pprint\n",
    "from dateutil import parser\n",
    "from datetime import datetime, timedelta\n",
    "from sqlalchemy.ext.automap import automap_base\n",
    "from sqlalchemy.orm import Session\n",
    "from sqlalchemy import create_engine, inspect , desc, distinct, func, extract, and_\n",
    "\n",
    "from flask import Flask, jsonify, render_template, send_from_directory"
   ]
  },
  {
   "cell_type": "code",
   "execution_count": 2,
   "metadata": {
    "collapsed": true
   },
   "outputs": [],
   "source": [
    "engine = create_engine('sqlite:///incident.sqlite')\n",
    "conn = engine.connect()\n",
    "Base = automap_base()\n",
    "Base.prepare(engine,reflect = True)\n",
    "Base.metadata.create_all(conn)\n",
    "Incident = Base.classes.Incident_History\n",
    "session = Session(engine)\n",
    "inspector = inspect(engine)\n"
   ]
  },
  {
   "cell_type": "code",
   "execution_count": 3,
   "metadata": {},
   "outputs": [
    {
     "data": {
      "text/plain": [
       "['Incident_History', 'sqlite_sequence']"
      ]
     },
     "execution_count": 3,
     "metadata": {},
     "output_type": "execute_result"
    }
   ],
   "source": [
    "inspector.get_table_names()"
   ]
  },
  {
   "cell_type": "code",
   "execution_count": 4,
   "metadata": {},
   "outputs": [
    {
     "name": "stdout",
     "output_type": "stream",
     "text": [
      "id INTEGER\n",
      "direction VARCHAR\n",
      "color VARCHAR\n",
      "location VARCHAR\n",
      "problem VARCHAR\n",
      "delay FLOAT\n",
      "full_text VARCHAR\n",
      "time TIME\n",
      "date DATE\n"
     ]
    }
   ],
   "source": [
    "incident_columns = inspector.get_columns('Incident_History')\n",
    "for column in incident_columns:\n",
    "    print(column['name'], column['type'])"
   ]
  },
  {
   "cell_type": "code",
   "execution_count": 5,
   "metadata": {
    "collapsed": true
   },
   "outputs": [],
   "source": [
    "app = Flask(__name__)\n",
    "\n",
    "@app.route(\"/\")\n",
    "def index():\n",
    "    return render_template(\"index.html\")\n",
    "\n",
    "@app.route(\"/js/<filename>\")\n",
    "def downloadjs(filename):\n",
    "    return send_from_directory(\"js\", filename)\n"
   ]
  },
  {
   "cell_type": "code",
   "execution_count": 6,
   "metadata": {
    "collapsed": true
   },
   "outputs": [],
   "source": [
    "def valid(tms, start, end):\n",
    "    out = []\n",
    "    for t in tms:\n",
    "\n",
    "\n",
    "        if t.time >= start and t.time <= end:\n",
    "            out.append(t)\n",
    "        \n",
    "    return out"
   ]
  },
  {
   "cell_type": "code",
   "execution_count": 7,
   "metadata": {
    "scrolled": false
   },
   "outputs": [],
   "source": [
    "@app.route(\"/incidents/<time>/<station>\")\n",
    "def incident_report(time, station):\n",
    "    tms = session.query(Incident).filter(Incident.location == station).all()\n",
    "    \n",
    "    start = parser.parse(time)\n",
    "    end = (start + timedelta(minutes=59)).time()\n",
    "    start = start.time()\n",
    "\n",
    "    out = valid(tms, start, end)\n",
    "\n",
    "    print(len(out))\n",
    "    avg = 0.0\n",
    "    for o in out:\n",
    "        avg += o.delay\n",
    "    \n",
    "    if avg != 0:\n",
    "        avg = [avg / len(out)]\n",
    "    else:\n",
    "        avg = [0]\n",
    "        \n",
    "    return jsonify(avg)\n",
    "\n",
    "    \n"
   ]
  },
  {
   "cell_type": "code",
   "execution_count": 8,
   "metadata": {},
   "outputs": [],
   "source": [
    "@app.route(\"/time\")\n",
    "def time_pull():\n",
    "    times = [\n",
    "        \"5:00\",\n",
    "        \"6:00\",\n",
    "        \"7:00\",\n",
    "        \"8:00\",\n",
    "        \"9:00\",\n",
    "        \"10:00\",\n",
    "        \"11:00\",\n",
    "        \"12:00\",\n",
    "        \"13.00\",\n",
    "        \"14:00\",\n",
    "        \"15:00\",\n",
    "        \"16:00\",\n",
    "        \"17:00\",\n",
    "        \"18:00\",\n",
    "        \"19:00\",\n",
    "        \"20:00\",\n",
    "        \"21:00\",\n",
    "        \"22:00\",\n",
    "        \"23:00\"\n",
    "    ]\n",
    "    return jsonify(times)"
   ]
  },
  {
   "cell_type": "code",
   "execution_count": 9,
   "metadata": {},
   "outputs": [],
   "source": [
    "@app.route(\"/metro_locations\")\n",
    "def metro_loc():\n",
    "    \n",
    "    station_list = []\n",
    "    stations = session.query(Incident.location).distinct()\n",
    "    for i in stations:\n",
    "        station_list.append(i)\n",
    "    \n",
    "    return jsonify(station_list)\n"
   ]
  },
  {
   "cell_type": "code",
   "execution_count": null,
   "metadata": {},
   "outputs": [
    {
     "name": "stderr",
     "output_type": "stream",
     "text": [
      " * Running on http://127.0.0.1:5000/ (Press CTRL+C to quit)\n",
      "127.0.0.1 - - [09/Feb/2018 22:18:16] \"GET / HTTP/1.1\" 200 -\n",
      "127.0.0.1 - - [09/Feb/2018 22:18:16] \"GET /time HTTP/1.1\" 200 -\n",
      "127.0.0.1 - - [09/Feb/2018 22:18:16] \"GET /metro_locations HTTP/1.1\" 200 -\n",
      "127.0.0.1 - - [09/Feb/2018 22:19:28] \"GET / HTTP/1.1\" 200 -\n",
      "127.0.0.1 - - [09/Feb/2018 22:19:28] \"GET /js/kyle_javascript.js HTTP/1.1\" 200 -\n",
      "127.0.0.1 - - [09/Feb/2018 22:19:28] \"GET /time HTTP/1.1\" 200 -\n",
      "127.0.0.1 - - [09/Feb/2018 22:19:28] \"GET /metro_locations HTTP/1.1\" 200 -\n"
     ]
    }
   ],
   "source": [
    "if __name__ == \"__main__\":\n",
    "    app.run()"
   ]
  },
  {
   "cell_type": "code",
   "execution_count": null,
   "metadata": {
    "collapsed": true
   },
   "outputs": [],
   "source": []
  }
 ],
 "metadata": {
  "kernelspec": {
   "display_name": "Python [conda env:PythonData]",
   "language": "python",
   "name": "conda-env-PythonData-py"
  },
  "language_info": {
   "codemirror_mode": {
    "name": "ipython",
    "version": 3
   },
   "file_extension": ".py",
   "mimetype": "text/x-python",
   "name": "python",
   "nbconvert_exporter": "python",
   "pygments_lexer": "ipython3",
   "version": "3.6.2"
  }
 },
 "nbformat": 4,
 "nbformat_minor": 2
}
