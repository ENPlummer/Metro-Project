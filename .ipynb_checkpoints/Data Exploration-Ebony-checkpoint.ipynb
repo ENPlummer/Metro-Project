{
 "cells": [
  {
   "cell_type": "markdown",
   "metadata": {},
   "source": [
    "In this section I will be exploring ridership data."
   ]
  },
  {
   "cell_type": "code",
   "execution_count": null,
   "metadata": {
    "collapsed": true
   },
   "outputs": [],
   "source": [
    "#Dependencies\n",
    "\n",
    "import pandas as pd\n",
    "from datetime import datetime\n",
    "from dateutil.parser import parse"
   ]
  },
  {
   "cell_type": "code",
   "execution_count": null,
   "metadata": {},
   "outputs": [],
   "source": [
    "#2010-2016 Metrorail ridership data 2010-2016.\n",
    "\n",
    "ridership_data = pd.read_excel('Resources/Avg-Weekday-Rail-Ridership-by-Month-by-Station-2010-to-20161.xlsx')\n",
    "ridership_data.head()"
   ]
  },
  {
   "cell_type": "code",
   "execution_count": null,
   "metadata": {},
   "outputs": [],
   "source": [
    "ridership_14 = ridership_data[(ridership_data.DATEMONTHINT > 201312) & (ridership_data.DATEMONTHINT <=201412)]\n",
    "ridership_14.head()"
   ]
  },
  {
   "cell_type": "code",
   "execution_count": null,
   "metadata": {},
   "outputs": [],
   "source": [
    "ridership_14 = ridership_14.set_index('DATEMONTHINT')\n",
    "ridership_14.head()"
   ]
  },
  {
   "cell_type": "code",
   "execution_count": null,
   "metadata": {},
   "outputs": [],
   "source": [
    "sort_riders_14 = ridership_14.sort_values('RIDERS_PER_WEEKDAY', ascending=False)\n",
    "sort_riders_14.head()"
   ]
  },
  {
   "cell_type": "code",
   "execution_count": null,
   "metadata": {},
   "outputs": [],
   "source": [
    "metro_stations_14 = sort_riders_14.groupby('STATION')\n",
    "metro_stations_14.head()"
   ]
  },
  {
   "cell_type": "code",
   "execution_count": null,
   "metadata": {},
   "outputs": [],
   "source": [
    "ridership_15 = ridership_data[(ridership_data.DATEMONTHINT > 201412) & (ridership_data.DATEMONTHINT <=201512)]\n",
    "ridership_15.head()"
   ]
  },
  {
   "cell_type": "code",
   "execution_count": null,
   "metadata": {},
   "outputs": [],
   "source": [
    "ridership_15 = ridership_15.set_index('DATEMONTHINT')\n",
    "ridership_15.head()"
   ]
  },
  {
   "cell_type": "code",
   "execution_count": null,
   "metadata": {},
   "outputs": [],
   "source": [
    "sort_riders_15 = ridership_15.sort_values('RIDERS_PER_WEEKDAY', ascending=False)\n",
    "sort_riders_15"
   ]
  },
  {
   "cell_type": "code",
   "execution_count": null,
   "metadata": {},
   "outputs": [],
   "source": [
    "metro_stations_15 = sort_riders_15.groupby('STATION')\n",
    "metro_stations_15.head()"
   ]
  },
  {
   "cell_type": "code",
   "execution_count": null,
   "metadata": {},
   "outputs": [],
   "source": [
    "ridership_16 = ridership_data[(ridership_data.DATEMONTHINT > 201512) & (ridership_data.DATEMONTHINT <=201612)]\n",
    "ridership_16.head()"
   ]
  },
  {
   "cell_type": "code",
   "execution_count": null,
   "metadata": {},
   "outputs": [],
   "source": [
    "ridership_16 = ridership_16.set_index('DATEMONTHINT')\n",
    "ridership_16.head()"
   ]
  },
  {
   "cell_type": "code",
   "execution_count": null,
   "metadata": {},
   "outputs": [],
   "source": [
    "sort_riders_16 = ridership_16.sort_values('RIDERS_PER_WEEKDAY', ascending=False)\n",
    "sort_riders_16"
   ]
  },
  {
   "cell_type": "code",
   "execution_count": null,
   "metadata": {},
   "outputs": [],
   "source": [
    "metro_stations_16 = sort_riders_16.groupby('STATION')\n",
    "metro_stations_16.head()"
   ]
  },
  {
   "cell_type": "code",
   "execution_count": null,
   "metadata": {},
   "outputs": [],
   "source": [
    "ridership_time = pd.read_excel('Resources/Avg-Weekday-Rail-Ridership-by-Month-by-Station-by-Period-2010-to-2016.xlsx')\n",
    "ridership_time.head()"
   ]
  },
  {
   "cell_type": "code",
   "execution_count": null,
   "metadata": {},
   "outputs": [],
   "source": [
    "ridership_timeperiod_14 = ridership_time[(ridership_time.DATEMONTHINT > 201312) & (ridership_time.DATEMONTHINT <=201412)]\n",
    "ridership_timeperiod_14.head()"
   ]
  },
  {
   "cell_type": "code",
   "execution_count": null,
   "metadata": {},
   "outputs": [],
   "source": [
    "ridership_timeperiod_14 = ridership_timeperiod_14.set_index('DATEMONTHINT')\n",
    "ridership_timeperiod_14.head()"
   ]
  },
  {
   "cell_type": "code",
   "execution_count": null,
   "metadata": {
    "scrolled": true
   },
   "outputs": [],
   "source": [
    "sorted_stations_14 = ridership_timeperiod_14.sort_values('RIDERS_PER_WEEKDAY',ascending=False)\n",
    "sorted_stations_14"
   ]
  },
  {
   "cell_type": "code",
   "execution_count": null,
   "metadata": {},
   "outputs": [],
   "source": [
    "metro_group_14 = sorted_stations_14.groupby(['STATION','PERIOD'])\n",
    "metro_group_14.head()"
   ]
  },
  {
   "cell_type": "code",
   "execution_count": null,
   "metadata": {},
   "outputs": [],
   "source": [
    "ridership_timeperiod_15 = ridership_time[(ridership_time.DATEMONTHINT > 201412) & (ridership_time.DATEMONTHINT <=201512)]\n",
    "ridership_timeperiod_15.head()"
   ]
  },
  {
   "cell_type": "code",
   "execution_count": null,
   "metadata": {},
   "outputs": [],
   "source": [
    "ridership_timeperiod_15 = ridership_timeperiod_15.set_index('DATEMONTHINT')\n",
    "ridership_timeperiod_15.head()"
   ]
  },
  {
   "cell_type": "code",
   "execution_count": null,
   "metadata": {},
   "outputs": [],
   "source": [
    "sorted_stations_15 = ridership_timeperiod_15.sort_values('RIDERS_PER_WEEKDAY',ascending=False)\n",
    "sorted_stations_15"
   ]
  },
  {
   "cell_type": "code",
   "execution_count": null,
   "metadata": {},
   "outputs": [],
   "source": [
    "metro_group_15 = sorted_stations_15.groupby(['STATION','PERIOD'])\n",
    "metro_group_15.head()"
   ]
  },
  {
   "cell_type": "code",
   "execution_count": null,
   "metadata": {},
   "outputs": [],
   "source": [
    "ridership_timeperiod_16 = ridership_time[(ridership_time.DATEMONTHINT > 201512) & (ridership_time.DATEMONTHINT <=201612)]\n",
    "ridership_timeperiod_16.head()"
   ]
  },
  {
   "cell_type": "code",
   "execution_count": null,
   "metadata": {},
   "outputs": [],
   "source": [
    "ridership_timeperiod_16 = ridership_timeperiod_16.set_index('DATEMONTHINT')\n",
    "ridership_timeperiod_16.head()"
   ]
  },
  {
   "cell_type": "code",
   "execution_count": null,
   "metadata": {},
   "outputs": [],
   "source": [
    "sorted_stations_16 = ridership_timeperiod_16.sort_values('RIDERS_PER_WEEKDAY',ascending=False)\n",
    "sorted_stations_16"
   ]
  },
  {
   "cell_type": "code",
   "execution_count": null,
   "metadata": {},
   "outputs": [],
   "source": [
    "metro_group_16 = sorted_stations_16.groupby(['STATION','PERIOD'])\n",
    "metro_group_16.head()"
   ]
  },
  {
   "cell_type": "code",
   "execution_count": null,
   "metadata": {},
   "outputs": [],
   "source": [
    "ridership_average_14 = ridership_14.groupby('STATION')[['RIDERS_PER_WEEKDAY']].mean()\n",
    "ridership_average_14"
   ]
  },
  {
   "cell_type": "code",
   "execution_count": null,
   "metadata": {},
   "outputs": [],
   "source": [
    "ridership_timeperiod_average_14 = ridership_timeperiod_14.groupby(['STATION','PERIOD'])[['RIDERS_PER_WEEKDAY']].mean()\n",
    "ridership_timeperiod_average_14"
   ]
  },
  {
   "cell_type": "code",
   "execution_count": null,
   "metadata": {},
   "outputs": [],
   "source": [
    "ridership_average_15 = ridership_15.groupby('STATION')[['RIDERS_PER_WEEKDAY']].mean()\n",
    "ridership_average_15"
   ]
  },
  {
   "cell_type": "code",
   "execution_count": null,
   "metadata": {},
   "outputs": [],
   "source": [
    "ridership_timeperiod_average_15 = ridership_timeperiod_15.groupby(['STATION','PERIOD'])[['RIDERS_PER_WEEKDAY']].mean()\n",
    "ridership_timeperiod_average_15"
   ]
  },
  {
   "cell_type": "code",
   "execution_count": null,
   "metadata": {},
   "outputs": [],
   "source": [
    "ridership_average_16 = ridership_16.groupby('STATION')[['RIDERS_PER_WEEKDAY']].mean()\n",
    "ridership_average_16"
   ]
  },
  {
   "cell_type": "code",
   "execution_count": null,
   "metadata": {},
   "outputs": [],
   "source": [
    "ridership_timeperiod_average_16 = ridership_timeperiod_16.groupby(['STATION','PERIOD'])[['RIDERS_PER_WEEKDAY']].mean()\n",
    "ridership_timeperiod_average_16"
   ]
  },
  {
   "cell_type": "code",
   "execution_count": null,
   "metadata": {},
   "outputs": [],
   "source": [
    "overall_ridership = ridership_data.groupby('STATION')[['RIDERS_PER_WEEKDAY']].mean()\n",
    "overall_ridership"
   ]
  },
  {
   "cell_type": "code",
   "execution_count": null,
   "metadata": {
    "scrolled": true
   },
   "outputs": [],
   "source": [
    "ridership_timeperiod_overall = ridership_time.groupby(['STATION','PERIOD'])[['RIDERS_PER_WEEKDAY']].mean()\n",
    "ridership_timeperiod_overall"
   ]
  }
 ],
 "metadata": {
  "kernelspec": {
   "display_name": "Python 3",
   "language": "python",
   "name": "python3"
  },
  "language_info": {
   "codemirror_mode": {
    "name": "ipython",
    "version": 3
   },
   "file_extension": ".py",
   "mimetype": "text/x-python",
   "name": "python",
   "nbconvert_exporter": "python",
   "pygments_lexer": "ipython3",
   "version": "3.6.1"
  }
 },
 "nbformat": 4,
 "nbformat_minor": 2
}
