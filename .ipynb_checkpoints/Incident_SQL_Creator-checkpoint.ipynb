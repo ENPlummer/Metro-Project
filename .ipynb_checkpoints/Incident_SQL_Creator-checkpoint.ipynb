{
 "cells": [
  {
   "cell_type": "code",
   "execution_count": 1,
   "metadata": {
    "collapsed": true
   },
   "outputs": [],
   "source": [
    "from numpy import genfromtxt\n",
    "from time import time\n",
    "from datetime import datetime\n",
    "from sqlalchemy import Column, Integer, Float, Date, String, Time\n",
    "from sqlalchemy.ext.declarative import declarative_base\n",
    "from sqlalchemy import create_engine\n",
    "from sqlalchemy.orm import sessionmaker\n",
    "import csv"
   ]
  },
  {
   "cell_type": "code",
   "execution_count": 2,
   "metadata": {
    "collapsed": true
   },
   "outputs": [],
   "source": [
    "def Load_Data(file_name):\n",
    "#     data = genfromtxt(file_name, delimiter=',', skip_header=1, converters={0: lambda s: str(s)})\n",
    "#     return data.tolist()\n",
    "    with open(file_name, \"r\") as f:\n",
    "        dr = csv.DictReader(f)\n",
    "        rows = []\n",
    "        for i in dr:\n",
    "            rows.append(i)\n",
    "        \n",
    "        return rows"
   ]
  },
  {
   "cell_type": "code",
   "execution_count": 3,
   "metadata": {
    "collapsed": true
   },
   "outputs": [],
   "source": [
    "Base = declarative_base()"
   ]
  },
  {
   "cell_type": "code",
   "execution_count": 4,
   "metadata": {
    "collapsed": true
   },
   "outputs": [],
   "source": [
    "class Incident(Base):\n",
    "    __tablename__ = 'Incident_History'\n",
    "    __table_args__={'sqlite_autoincrement': True}\n",
    "    id = Column(Integer, primary_key=True, nullable=False)\n",
    "    direction = Column(String)\n",
    "    color = Column(String)\n",
    "    location = Column(String)\n",
    "    problem = Column(String)\n",
    "    delay = Column(Float)\n",
    "    full_text= Column(String)\n",
    "    time = Column(String)\n",
    "    date = Column(String)"
   ]
  },
  {
   "cell_type": "code",
   "execution_count": 5,
   "metadata": {},
   "outputs": [
    {
     "name": "stdout",
     "output_type": "stream",
     "text": [
      "21705\n"
     ]
    }
   ],
   "source": [
    "if __name__ == \"__main__\":\n",
    "    engine = create_engine('sqlite:///incident.sqlite')\n",
    "    Base.metadata.create_all(engine)\n",
    "    \n",
    "    session = sessionmaker()\n",
    "    session.configure(bind=engine)\n",
    "    s = session()\n",
    "    \n",
    "    file_name = 'incident.csv'\n",
    "    data = Load_Data(file_name)\n",
    "    print(len(data))\n",
    "  \n",
    "\n",
    "    for i in data:\n",
    "#         print(i)\n",
    "        record = Incident(**{\n",
    "            'direction': i['direction'],\n",
    "            'color':i['color'],\n",
    "            'location': i['location'],\n",
    "            'problem': i['problem'],\n",
    "            'delay': i['delay (min)'],\n",
    "            'full_text': i['full text'],\n",
    "            'time': i['time'],\n",
    "            'date': i['date']\n",
    "            })\n",
    "\n",
    "#         record = Incident(**{\n",
    "#             'direction': i[0],\n",
    "#             'color':i[1],\n",
    "#             'location': i[2],\n",
    "#             'problem': i[3],\n",
    "#             'delay': i[4],\n",
    "#             'full_text': i[5],\n",
    "#             'time': i[6],\n",
    "#             'date': i[7]\n",
    "#             })\n",
    "        s.add(record)\n",
    "    s.commit()\n"
   ]
  },
  {
   "cell_type": "code",
   "execution_count": null,
   "metadata": {
    "collapsed": true
   },
   "outputs": [],
   "source": []
  },
  {
   "cell_type": "code",
   "execution_count": null,
   "metadata": {
    "collapsed": true
   },
   "outputs": [],
   "source": []
  }
 ],
 "metadata": {
  "kernelspec": {
   "display_name": "Python [conda env:PythonData]",
   "language": "python",
   "name": "conda-env-PythonData-py"
  },
  "language_info": {
   "codemirror_mode": {
    "name": "ipython",
    "version": 3
   },
   "file_extension": ".py",
   "mimetype": "text/x-python",
   "name": "python",
   "nbconvert_exporter": "python",
   "pygments_lexer": "ipython3",
   "version": "3.6.2"
  }
 },
 "nbformat": 4,
 "nbformat_minor": 2
}
